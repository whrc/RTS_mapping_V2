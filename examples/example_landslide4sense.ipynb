{
 "cells": [
  {
   "cell_type": "markdown",
   "id": "35ba4d58-8ff6-4f9c-bfb1-a70376f80494",
   "metadata": {},
   "source": [
    "## Landslide4Sense Example"
   ]
  },
  {
   "cell_type": "code",
   "execution_count": null,
   "id": "96f1dc46-8cfd-457b-9d9c-a4de678b027c",
   "metadata": {},
   "outputs": [],
   "source": [
    "!pip install terratorch==0.99.8"
   ]
  },
  {
   "cell_type": "code",
   "execution_count": 1,
   "id": "2e8c1961-311b-49e0-b6ea-2867b44cb47a",
   "metadata": {
    "execution": {
     "iopub.execute_input": "2025-02-12T10:27:33.615007Z",
     "iopub.status.busy": "2025-02-12T10:27:33.614790Z",
     "iopub.status.idle": "2025-02-12T10:27:39.884292Z",
     "shell.execute_reply": "2025-02-12T10:27:39.883765Z",
     "shell.execute_reply.started": "2025-02-12T10:27:33.614992Z"
    }
   },
   "outputs": [
    {
     "name": "stderr",
     "output_type": "stream",
     "text": [
      "INFO:albumentations.check_version:A new version of Albumentations is available: 2.0.4 (you have 1.4.10). Upgrade using: pip install --upgrade albumentations\n"
     ]
    }
   ],
   "source": [
    "import os\n",
    "import sys\n",
    "import numpy as np\n",
    "import torch\n",
    "\n",
    "import terratorch\n",
    "from terratorch.datamodules import Landslide4SenseNonGeoDataModule\n",
    "from terratorch.datasets import Landslide4SenseNonGeo\n",
    "from terratorch.tasks import SemanticSegmentationTask\n",
    "\n",
    "import albumentations\n",
    "\n",
    "import lightning.pytorch as pl\n",
    "from lightning.pytorch.loggers import TensorBoardLogger\n",
    "from lightning.pytorch.callbacks import ModelCheckpoint"
   ]
  },
  {
   "cell_type": "markdown",
   "id": "8d49ba09-1a71-4f11-8726-58514a2e7f30",
   "metadata": {},
   "source": [
    "If you have the data already downloaded, update the `DATASET_PATH`. Otherwise, download it with the following code. \n",
    "Check [here](https://huggingface.co/datasets/ibm-nasa-geospatial/Landslide4sense) for more details on this dataset."
   ]
  },
  {
   "cell_type": "code",
   "execution_count": 2,
   "id": "b37eba4e-af99-4621-94c5-cf77b0cbf855",
   "metadata": {
    "execution": {
     "iopub.execute_input": "2025-02-12T10:27:42.262391Z",
     "iopub.status.busy": "2025-02-12T10:27:42.262172Z",
     "iopub.status.idle": "2025-02-12T10:27:42.264721Z",
     "shell.execute_reply": "2025-02-12T10:27:42.264378Z",
     "shell.execute_reply.started": "2025-02-12T10:27:42.262373Z"
    }
   },
   "outputs": [],
   "source": [
    "DATASET_PATH = \"./data\""
   ]
  },
  {
   "cell_type": "code",
   "execution_count": null,
   "id": "3555ea28-94b2-4822-8606-2c269fa27a23",
   "metadata": {},
   "outputs": [],
   "source": [
    "from huggingface_hub import snapshot_download\n",
    "\n",
    "repo_id = \"ibm-nasa-geospatial/Landslide4sense\"\n",
    "_ = snapshot_download(repo_id=repo_id, repo_type=\"dataset\", cache_dir=\"./cache\", local_dir=DATASET_PATH)"
   ]
  },
  {
   "cell_type": "code",
   "execution_count": 3,
   "id": "e3854bdb-17a4-43c8-bfa8-822b44fd59c3",
   "metadata": {
    "execution": {
     "iopub.execute_input": "2025-02-12T10:27:44.076306Z",
     "iopub.status.busy": "2025-02-12T10:27:44.075951Z",
     "iopub.status.idle": "2025-02-12T10:27:44.078915Z",
     "shell.execute_reply": "2025-02-12T10:27:44.078506Z",
     "shell.execute_reply.started": "2025-02-12T10:27:44.076288Z"
    }
   },
   "outputs": [],
   "source": [
    "OUT_DIR = \"./landslide_example\"  # where to save checkpoints and log files\n",
    "\n",
    "BATCH_SIZE = 16\n",
    "EPOCHS = 40\n",
    "LR = 1.0e-4\n",
    "WEIGHT_DECAY = 0.1\n",
    "HEAD_DROPOUT=0.1\n",
    "FREEZE_BACKBONE = False\n",
    "\n",
    "BANDS = [\"BLUE\", \"GREEN\", \"RED\", \"NIR_BROAD\", \"SWIR_1\", \"SWIR_2\"]\n",
    "NUM_WORKERS = 7   # adjust value based on your system\n",
    "\n",
    "SEED = 0"
   ]
  },
  {
   "cell_type": "markdown",
   "id": "bc6d6f0c-7004-4609-a4ae-b3ccb9cb01dc",
   "metadata": {},
   "source": [
    "#### Exploring the dataset"
   ]
  },
  {
   "cell_type": "code",
   "execution_count": 4,
   "id": "735803b1-a4bf-427f-a1e6-5ac755af33fc",
   "metadata": {
    "execution": {
     "iopub.execute_input": "2025-02-12T10:27:45.912182Z",
     "iopub.status.busy": "2025-02-12T10:27:45.911963Z",
     "iopub.status.idle": "2025-02-12T10:27:45.915613Z",
     "shell.execute_reply": "2025-02-12T10:27:45.915272Z",
     "shell.execute_reply.started": "2025-02-12T10:27:45.912164Z"
    }
   },
   "outputs": [],
   "source": [
    "data_module = Landslide4SenseNonGeoDataModule(\n",
    "    data_root=DATASET_PATH,\n",
    ")"
   ]
  },
  {
   "cell_type": "code",
   "execution_count": 5,
   "id": "a87ed3b7-f7dc-486d-ac59-cd781a070925",
   "metadata": {
    "execution": {
     "iopub.execute_input": "2025-02-12T10:27:46.597508Z",
     "iopub.status.busy": "2025-02-12T10:27:46.597307Z",
     "iopub.status.idle": "2025-02-12T10:27:46.600052Z",
     "shell.execute_reply": "2025-02-12T10:27:46.599636Z",
     "shell.execute_reply.started": "2025-02-12T10:27:46.597490Z"
    }
   },
   "outputs": [
    {
     "name": "stdout",
     "output_type": "stream",
     "text": [
      "[-0.4914, -0.3074, -0.1277, -0.0625, 0.0439, 0.0803, 0.0644, 0.0802, 0.3, 0.4082, 0.0823, 0.0516, 0.3338, 0.7819]\n",
      "[0.9325, 0.8775, 0.886, 0.8869, 0.8857, 0.8418, 0.8354, 0.8491, 0.9061, 1.6072, 0.8848, 0.9232, 0.9018, 1.2913]\n"
     ]
    }
   ],
   "source": [
    "# Checking the dataset means and stds\n",
    "print(data_module.means)\n",
    "print(data_module.stds)"
   ]
  },
  {
   "cell_type": "code",
   "execution_count": 6,
   "id": "08644e71-d82f-426c-b0c1-79026fccb578",
   "metadata": {
    "execution": {
     "iopub.execute_input": "2025-02-12T10:27:47.250214Z",
     "iopub.status.busy": "2025-02-12T10:27:47.249850Z",
     "iopub.status.idle": "2025-02-12T10:27:47.293870Z",
     "shell.execute_reply": "2025-02-12T10:27:47.293541Z",
     "shell.execute_reply.started": "2025-02-12T10:27:47.250196Z"
    }
   },
   "outputs": [
    {
     "data": {
      "text/plain": [
       "3799"
      ]
     },
     "execution_count": 6,
     "metadata": {},
     "output_type": "execute_result"
    }
   ],
   "source": [
    "# Checking train split size\n",
    "data_module.setup(\"fit\")\n",
    "train_dataset = data_module.train_dataset\n",
    "len(train_dataset)"
   ]
  },
  {
   "cell_type": "code",
   "execution_count": 7,
   "id": "88b86821-3481-4d92-bdba-246568c66c48",
   "metadata": {
    "execution": {
     "iopub.execute_input": "2025-02-12T10:27:48.524404Z",
     "iopub.status.busy": "2025-02-12T10:27:48.524200Z",
     "iopub.status.idle": "2025-02-12T10:27:48.527307Z",
     "shell.execute_reply": "2025-02-12T10:27:48.526979Z",
     "shell.execute_reply.started": "2025-02-12T10:27:48.524387Z"
    }
   },
   "outputs": [
    {
     "data": {
      "text/plain": [
       "('COASTAL AEROSOL',\n",
       " 'BLUE',\n",
       " 'GREEN',\n",
       " 'RED',\n",
       " 'RED_EDGE_1',\n",
       " 'RED_EDGE_2',\n",
       " 'RED_EDGE_3',\n",
       " 'NIR_BROAD',\n",
       " 'WATER_VAPOR',\n",
       " 'CIRRUS',\n",
       " 'SWIR_1',\n",
       " 'SWIR_2',\n",
       " 'SLOPE',\n",
       " 'DEM')"
      ]
     },
     "execution_count": 7,
     "metadata": {},
     "output_type": "execute_result"
    }
   ],
   "source": [
    "# Checking available bands\n",
    "train_dataset.all_band_names"
   ]
  },
  {
   "cell_type": "code",
   "execution_count": null,
   "id": "3a1da2ad-a797-4f4a-ad1a-cd10f9addb01",
   "metadata": {
    "execution": {
     "iopub.execute_input": "2025-02-12T10:27:49.735330Z",
     "iopub.status.busy": "2025-02-12T10:27:49.735129Z",
     "iopub.status.idle": "2025-02-12T10:27:51.398067Z",
     "shell.execute_reply": "2025-02-12T10:27:51.397402Z",
     "shell.execute_reply.started": "2025-02-12T10:27:49.735312Z"
    }
   },
   "outputs": [],
   "source": [
    "# Ploting a few samples\n",
    "for i in range(5):\n",
    "    train_dataset.plot(train_dataset[i])"
   ]
  },
  {
   "cell_type": "code",
   "execution_count": 9,
   "id": "b7062ddc-a3b7-4378-898c-41abcdf2ee3b",
   "metadata": {
    "execution": {
     "iopub.execute_input": "2025-02-12T10:27:55.073503Z",
     "iopub.status.busy": "2025-02-12T10:27:55.073186Z",
     "iopub.status.idle": "2025-02-12T10:27:55.077062Z",
     "shell.execute_reply": "2025-02-12T10:27:55.076668Z",
     "shell.execute_reply.started": "2025-02-12T10:27:55.073483Z"
    }
   },
   "outputs": [
    {
     "data": {
      "text/plain": [
       "245"
      ]
     },
     "execution_count": 9,
     "metadata": {},
     "output_type": "execute_result"
    }
   ],
   "source": [
    "# Checking validation split size\n",
    "val_dataset = data_module.val_dataset\n",
    "len(val_dataset)"
   ]
  },
  {
   "cell_type": "code",
   "execution_count": 10,
   "id": "ede1c1c6-9f60-4510-a2da-572c55d03f79",
   "metadata": {
    "execution": {
     "iopub.execute_input": "2025-02-12T10:27:56.640531Z",
     "iopub.status.busy": "2025-02-12T10:27:56.640315Z",
     "iopub.status.idle": "2025-02-12T10:27:56.651216Z",
     "shell.execute_reply": "2025-02-12T10:27:56.650880Z",
     "shell.execute_reply.started": "2025-02-12T10:27:56.640513Z"
    }
   },
   "outputs": [
    {
     "data": {
      "text/plain": [
       "800"
      ]
     },
     "execution_count": 10,
     "metadata": {},
     "output_type": "execute_result"
    }
   ],
   "source": [
    "# Checking test split\n",
    "data_module.setup(\"test\")\n",
    "test_dataset = data_module.test_dataset\n",
    "len(test_dataset)"
   ]
  },
  {
   "cell_type": "markdown",
   "id": "9863275f-f266-4323-a278-5b80cb4c999d",
   "metadata": {},
   "source": [
    "#### Training setup"
   ]
  },
  {
   "cell_type": "code",
   "execution_count": 11,
   "id": "ae69d39a-857a-4392-b058-0f4b518edf6e",
   "metadata": {
    "execution": {
     "iopub.execute_input": "2025-02-12T10:27:59.939680Z",
     "iopub.status.busy": "2025-02-12T10:27:59.939456Z",
     "iopub.status.idle": "2025-02-12T10:28:00.003037Z",
     "shell.execute_reply": "2025-02-12T10:28:00.002673Z",
     "shell.execute_reply.started": "2025-02-12T10:27:59.939661Z"
    }
   },
   "outputs": [
    {
     "name": "stderr",
     "output_type": "stream",
     "text": [
      "INFO: Seed set to 0\n",
      "INFO:lightning.fabric.utilities.seed:Seed set to 0\n",
      "INFO: Using bfloat16 Automatic Mixed Precision (AMP)\n",
      "INFO:lightning.pytorch.utilities.rank_zero:Using bfloat16 Automatic Mixed Precision (AMP)\n",
      "INFO: GPU available: True (cuda), used: True\n",
      "INFO:lightning.pytorch.utilities.rank_zero:GPU available: True (cuda), used: True\n",
      "INFO: TPU available: False, using: 0 TPU cores\n",
      "INFO:lightning.pytorch.utilities.rank_zero:TPU available: False, using: 0 TPU cores\n",
      "INFO: IPU available: False, using: 0 IPUs\n",
      "INFO:lightning.pytorch.utilities.rank_zero:IPU available: False, using: 0 IPUs\n",
      "INFO: HPU available: False, using: 0 HPUs\n",
      "INFO:lightning.pytorch.utilities.rank_zero:HPU available: False, using: 0 HPUs\n"
     ]
    }
   ],
   "source": [
    "pl.seed_everything(SEED)\n",
    "\n",
    "# Logger\n",
    "logger = TensorBoardLogger(\n",
    "    save_dir=OUT_DIR,\n",
    "    name=\"landslide_example\",\n",
    ")\n",
    "\n",
    "# Callbacks\n",
    "checkpoint_callback = ModelCheckpoint(\n",
    "    monitor=\"val/Multiclass_Jaccard_Index\",\n",
    "    mode=\"max\",\n",
    "    dirpath=os.path.join(OUT_DIR, \"landslide_example\", \"checkpoints\"),\n",
    "    filename=\"best-checkpoint-{epoch:02d}-{val_loss:.2f}\",\n",
    "    save_top_k=1,\n",
    ")\n",
    "\n",
    "# Trainer\n",
    "trainer = pl.Trainer(\n",
    "    accelerator=\"auto\",\n",
    "    strategy=\"auto\",\n",
    "    devices=\"auto\",\n",
    "    precision=\"bf16-mixed\",\n",
    "    num_nodes=1,\n",
    "    logger=logger,\n",
    "    max_epochs=EPOCHS,\n",
    "    check_val_every_n_epoch=1,\n",
    "    log_every_n_steps=10,\n",
    "    enable_checkpointing=True,\n",
    "    callbacks=[checkpoint_callback],\n",
    ")"
   ]
  },
  {
   "cell_type": "code",
   "execution_count": 12,
   "id": "c7096be3-b241-407b-a615-a443920dac14",
   "metadata": {
    "execution": {
     "iopub.execute_input": "2025-02-12T10:28:04.345598Z",
     "iopub.status.busy": "2025-02-12T10:28:04.345112Z",
     "iopub.status.idle": "2025-02-12T10:28:04.351005Z",
     "shell.execute_reply": "2025-02-12T10:28:04.350654Z",
     "shell.execute_reply.started": "2025-02-12T10:28:04.345578Z"
    }
   },
   "outputs": [],
   "source": [
    "# DataModule\n",
    "\n",
    "transforms = [\n",
    "    albumentations.Resize(224, 224),\n",
    "    albumentations.pytorch.transforms.ToTensorV2(),\n",
    "]\n",
    "\n",
    "# Adding augmentations for training\n",
    "train_transforms = [\n",
    "    albumentations.HorizontalFlip(),\n",
    "    albumentations.Resize(224, 224),\n",
    "    albumentations.pytorch.transforms.ToTensorV2(),\n",
    "]\n",
    "\n",
    "data_module = Landslide4SenseNonGeoDataModule(\n",
    "    batch_size=BATCH_SIZE,\n",
    "    bands=BANDS,\n",
    "    data_root=DATASET_PATH,\n",
    "    train_transform=train_transforms,\n",
    "    val_transforms=transforms,\n",
    "    test_transforms=transforms,\n",
    "    num_workers=NUM_WORKERS,\n",
    ")"
   ]
  },
  {
   "cell_type": "code",
   "execution_count": null,
   "id": "99e45e1e-8e7c-4f51-93c9-2dcc2c88a7c5",
   "metadata": {},
   "outputs": [],
   "source": [
    "# Model\n",
    "\n",
    "backbone_args = dict(\n",
    "    backbone_pretrained=True,\n",
    "    backbone=\"prithvi_eo_v2_300\", # prithvi_eo_v2_300, prithvi_eo_v2_300_tl, prithvi_eo_v2_600, prithvi_eo_v2_600_tl\n",
    "    backbone_bands=BANDS,\n",
    "    backbone_num_frames=1,\n",
    ")\n",
    "\n",
    "decoder_args = dict(\n",
    "    decoder=\"UperNetDecoder\",\n",
    "    decoder_channels=256,\n",
    "    decoder_scale_modules=True,\n",
    ")\n",
    "\n",
    "necks = [\n",
    "    dict(\n",
    "            name=\"SelectIndices\",\n",
    "            # indices=[2, 5, 8, 11]    # indices for prithvi_eo_v1_100\n",
    "            indices=[5, 11, 17, 23],   # indices for prithvi_eo_v2_300\n",
    "            # indices=[7, 15, 23, 31]  # indices for prithvi_eo_v2_600\n",
    "        ),\n",
    "    dict(\n",
    "            name=\"ReshapeTokensToImage\",\n",
    "        )\n",
    "    ]\n",
    "\n",
    "model_args = dict(\n",
    "    **backbone_args,\n",
    "    **decoder_args,\n",
    "    num_classes=2,\n",
    "    head_dropout=HEAD_DROPOUT,\n",
    "    head_channel_list=[128, 64],\n",
    "    necks=necks,\n",
    "    rescale=True,\n",
    ")\n",
    "    \n",
    "\n",
    "model = SemanticSegmentationTask(\n",
    "    model_args=model_args,\n",
    "    plot_on_val=False,\n",
    "    loss=\"focal\",\n",
    "    lr=LR,\n",
    "    optimizer=\"AdamW\",\n",
    "    scheduler=\"StepLR\",\n",
    "    scheduler_hparams={\"step_size\": 10, \"gamma\": 0.9},\n",
    "    optimizer_hparams=dict(weight_decay=WEIGHT_DECAY),\n",
    "    ignore_index=-1,\n",
    "    freeze_backbone=FREEZE_BACKBONE,\n",
    "    freeze_decoder=False,\n",
    "    model_factory=\"EncoderDecoderFactory\",\n",
    ")"
   ]
  },
  {
   "cell_type": "markdown",
   "id": "22005236-2417-4f90-be7d-9174c4df587b",
   "metadata": {},
   "source": [
    "#### Training and testing the model"
   ]
  },
  {
   "cell_type": "code",
   "execution_count": null,
   "id": "f13ced1e-543c-45e4-b714-b73bac615dd8",
   "metadata": {},
   "outputs": [],
   "source": [
    "# Training\n",
    "trainer.fit(model, datamodule=data_module)"
   ]
  },
  {
   "cell_type": "code",
   "execution_count": null,
   "id": "35a77263-5308-4781-a17f-a35e62ca1875",
   "metadata": {},
   "outputs": [],
   "source": [
    "ckpt_path = checkpoint_callback.best_model_path\n",
    "\n",
    "# Test results\n",
    "test_results = trainer.test(model, datamodule=data_module, ckpt_path=ckpt_path)"
   ]
  },
  {
   "cell_type": "code",
   "execution_count": 16,
   "id": "307a7649-e7e7-43c6-811f-7d43f1fd5e1e",
   "metadata": {
    "execution": {
     "iopub.execute_input": "2025-02-12T12:16:10.412706Z",
     "iopub.status.busy": "2025-02-12T12:16:10.412449Z",
     "iopub.status.idle": "2025-02-12T12:16:10.416280Z",
     "shell.execute_reply": "2025-02-12T12:16:10.415952Z",
     "shell.execute_reply.started": "2025-02-12T12:16:10.412685Z"
    }
   },
   "outputs": [
    {
     "data": {
      "text/plain": [
       "[{'test/loss': 3.0330820663948543e-06,\n",
       "  'test/Multiclass_Accuracy': 0.9844433665275574,\n",
       "  'test/multiclassaccuracy_0': 0.9961121678352356,\n",
       "  'test/multiclassaccuracy_1': 0.3782273828983307,\n",
       "  'test/Multiclass_F1_Score': 0.9844433665275574,\n",
       "  'test/Multiclass_Jaccard_Index': 0.6495010256767273,\n",
       "  'test/multiclassjaccardindex_0': 0.9843314290046692,\n",
       "  'test/multiclassjaccardindex_1': 0.314670592546463,\n",
       "  'test/Multiclass_Jaccard_Index_Micro': 0.9693633317947388}]"
      ]
     },
     "execution_count": 16,
     "metadata": {},
     "output_type": "execute_result"
    }
   ],
   "source": [
    "test_results"
   ]
  },
  {
   "cell_type": "code",
   "execution_count": null,
   "id": "3e14a7f0-5611-47fd-aad4-71152f8ac975",
   "metadata": {},
   "outputs": [],
   "source": []
  }
 ],
 "metadata": {
  "kernelspec": {
   "display_name": "Python 3 (ipykernel)",
   "language": "python",
   "name": "python3"
  },
  "language_info": {
   "codemirror_mode": {
    "name": "ipython",
    "version": 3
   },
   "file_extension": ".py",
   "mimetype": "text/x-python",
   "name": "python",
   "nbconvert_exporter": "python",
   "pygments_lexer": "ipython3",
   "version": "3.10.14"
  }
 },
 "nbformat": 4,
 "nbformat_minor": 5
}
